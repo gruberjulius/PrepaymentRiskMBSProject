


import pyarrow
import pandas as pd
import polars as pl
import numpy as np
import sweetviz as sv
from collections import Counter
import numpy as np


# Assuming the columns in the dataset are in the order as follows, based on standard Freddie Mac file format
column_names = [
    "LOAN_SEQUENCE_NUMBER", "MONTHLY_REPORTING_PERIOD", "CURRENT_ACTUAL_UPB", "CURRENT_LOAN_DELINQUENCY_STATUS",
    "LOAN_AGE", "REMAINING_MONTHS", "REPURCHASE_FLAG", "MODIFICATION_FLAG", "ZERO_BALANCE_CODE",
    "ZERO_BALANCE_EFFECTIVE_DATE", "CURRENT_INTEREST_RATE", "CURRENT_DEFERRED_UPB", "DUE_DATE_OF_LAST_PAID_INSTALLMENT",
    "MI_RECOVERIES", "NET_SALES_PROCEEDS", "NON_MI_RECOVERIES", "EXPENSES", "LEGAL_COSTS", "MAINTENANCE_AND_PRESERVATION_COSTS",
    "TAXES_AND_INSURANCE", "MISCELLANEOUS_EXPENSES", "ACTUAL_LOSS_CALCULATION", "MODIFICATION_COST", "STEP_MODIFICATION_FLAG",
    "DEFERRED_PAYMENT_MODIFICATION", "ESTIMATED_LOAN_TO_VALUE", "ZERO_BALANCE_REMOVAL_UPB", "DELINQUENT_ACCRUED_INTEREST",
    "DELINQUENCY_DUE_TO_DISASTER", "BORROWER_ASSISTANCE_STATUS_CODE", "CURRENT_MONTH_LIQUIDATION_FLAG", "CURRENT_MONTH_REPURCHASE_FLAG"
]


debug = False


from datetime import datetime
def get_now():
    now = datetime.now()
    current_time = now.strftime("%H:%M:%S")
    print(current_time)


def convert_parquet_final(datapath='/Users/juliusgruber/Downloads/historical_data_2006/historical_data_time_2006Q1.txt', 
    outputpath="data/hist_data_time_2006_Q1.parquet"):
    get_now()
    # Load the data
    if debug==True:
        df = pd.read_csv(datapath, sep='|', header=None, nrows=10000, low_memory=False)
    else:
        df = pd.read_csv(datapath, sep='|', header=None, low_memory=False)
    get_now()
    df.columns = column_names
    df_fixed_30yr = df[(df['CURRENT_INTEREST_RATE'].notna()) & (df['REMAINING_MONTHS'] == 360)]
    
    compressed_df = df[df['ZERO_BALANCE_CODE'] == 1]
    prepayed_list = compressed_df["LOAN_SEQUENCE_NUMBER"].values
    
    relevant_features = ["LOAN_SEQUENCE_NUMBER", "MONTHLY_REPORTING_PERIOD","CURRENT_ACTUAL_UPB","ZERO_BALANCE_CODE","CURRENT_INTEREST_RATE","CURRENT_MONTH_REPURCHASE_FLAG" ]
    final_df = df_fixed_30yr[relevant_features].reset_index(drop=True)

    list_df = pd.DataFrame(prepayed_list, columns=['LOAN_SEQUENCE_NUMBER'])
    list_df['indicator'] = 1

    merged_df = pd.merge(final_df, list_df, on='LOAN_SEQUENCE_NUMBER', how='left').fillna({'indicator': 0})

    #find out how long until prepayment
    string_counts = Counter(df["LOAN_SEQUENCE_NUMBER"].values)
    counts_df = pd.DataFrame(list(string_counts.items()), columns=['LOAN_SEQUENCE_NUMBER', 'COUNT'])

    merged_df = pd.merge(final_df, counts_df, on='LOAN_SEQUENCE_NUMBER', how='left')

    merged_df = merged_df.dropna(subset=['CURRENT_INTEREST_RATE'])

    merged_df.to_parquet(outputpath)  


%%time

# Iterate over each year and quarter
for year in range(2006, 2023):  # 2024 because the range end is exclusive
    for quarter in range(1, 5):  # From Q1 to Q4
        print(year,quarter)
        
        # Construct the file path
        file_path = f'/Users/juliusgruber/Downloads/historical_data_{year}/historical_data_time_{year}Q{quarter}.txt'
        output_path = f'data/hist_data_time_{year}Q{quarter}.parquet'
        try:
            convert_parquet_final(file_path,output_path)
        except Exception as e:
            # If there's an error reading a file, print the error message and file path
            print(f"Could not read {file_path}: {e}")



