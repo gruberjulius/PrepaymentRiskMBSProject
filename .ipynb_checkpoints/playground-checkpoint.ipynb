{
 "cells": [
  {
   "cell_type": "markdown",
   "metadata": {},
   "source": [
    "## Efficient"
   ]
  },
  {
   "cell_type": "code",
   "execution_count": 1,
   "metadata": {},
   "outputs": [],
   "source": [
    "import pyarrow\n",
    "import pandas as pd\n",
    "import polars as pl\n",
    "import numpy as np\n",
    "import sweetviz as sv\n",
    "from collections import Counter\n",
    "import numpy as np"
   ]
  },
  {
   "cell_type": "code",
   "execution_count": 2,
   "metadata": {},
   "outputs": [],
   "source": [
    "# Assuming the columns in the dataset are in the order as follows, based on standard Freddie Mac file format\n",
    "column_names = [\n",
    "    \"LOAN_SEQUENCE_NUMBER\", \"MONTHLY_REPORTING_PERIOD\", \"CURRENT_ACTUAL_UPB\", \"CURRENT_LOAN_DELINQUENCY_STATUS\",\n",
    "    \"LOAN_AGE\", \"REMAINING_MONTHS\", \"REPURCHASE_FLAG\", \"MODIFICATION_FLAG\", \"ZERO_BALANCE_CODE\",\n",
    "    \"ZERO_BALANCE_EFFECTIVE_DATE\", \"CURRENT_INTEREST_RATE\", \"CURRENT_DEFERRED_UPB\", \"DUE_DATE_OF_LAST_PAID_INSTALLMENT\",\n",
    "    \"MI_RECOVERIES\", \"NET_SALES_PROCEEDS\", \"NON_MI_RECOVERIES\", \"EXPENSES\", \"LEGAL_COSTS\", \"MAINTENANCE_AND_PRESERVATION_COSTS\",\n",
    "    \"TAXES_AND_INSURANCE\", \"MISCELLANEOUS_EXPENSES\", \"ACTUAL_LOSS_CALCULATION\", \"MODIFICATION_COST\", \"STEP_MODIFICATION_FLAG\",\n",
    "    \"DEFERRED_PAYMENT_MODIFICATION\", \"ESTIMATED_LOAN_TO_VALUE\", \"ZERO_BALANCE_REMOVAL_UPB\", \"DELINQUENT_ACCRUED_INTEREST\",\n",
    "    \"DELINQUENCY_DUE_TO_DISASTER\", \"BORROWER_ASSISTANCE_STATUS_CODE\", \"CURRENT_MONTH_LIQUIDATION_FLAG\", \"CURRENT_MONTH_REPURCHASE_FLAG\"\n",
    "]"
   ]
  },
  {
   "cell_type": "code",
   "execution_count": 3,
   "metadata": {},
   "outputs": [],
   "source": [
    "debug = False"
   ]
  },
  {
   "cell_type": "code",
   "execution_count": 4,
   "metadata": {},
   "outputs": [],
   "source": [
    "from datetime import datetime\n",
    "def get_now():\n",
    "    now = datetime.now()\n",
    "    current_time = now.strftime(\"%H:%M:%S\")\n",
    "    print(current_time)"
   ]
  },
  {
   "cell_type": "code",
   "execution_count": 5,
   "metadata": {},
   "outputs": [],
   "source": [
    "def convert_parquet_final(datapath='/Users/juliusgruber/Downloads/historical_data_2006/historical_data_time_2006Q1.txt', \n",
    "    outputpath=\"data/hist_data_time_2006_Q1.parquet\"):\n",
    "    get_now()\n",
    "    # Load the data\n",
    "    if debug==True:\n",
    "        df = pd.read_csv(datapath, sep='|', header=None, nrows=10000, low_memory=False)\n",
    "    else:\n",
    "        df = pd.read_csv(datapath, sep='|', header=None, low_memory=False)\n",
    "    get_now()\n",
    "    df.columns = column_names\n",
    "    df_fixed_30yr = df[(df['CURRENT_INTEREST_RATE'].notna()) & (df['REMAINING_MONTHS'] == 360)]\n",
    "    \n",
    "    compressed_df = df[df['ZERO_BALANCE_CODE'] == 1]\n",
    "    prepayed_list = compressed_df[\"LOAN_SEQUENCE_NUMBER\"].values\n",
    "    \n",
    "    relevant_features = [\"LOAN_SEQUENCE_NUMBER\", \"MONTHLY_REPORTING_PERIOD\",\"CURRENT_ACTUAL_UPB\",\"ZERO_BALANCE_CODE\",\"CURRENT_INTEREST_RATE\",\"CURRENT_MONTH_REPURCHASE_FLAG\" ]\n",
    "    final_df = df_fixed_30yr[relevant_features].reset_index(drop=True)\n",
    "\n",
    "    list_df = pd.DataFrame(prepayed_list, columns=['LOAN_SEQUENCE_NUMBER'])\n",
    "    list_df['indicator'] = 1\n",
    "\n",
    "    merged_df = pd.merge(final_df, list_df, on='LOAN_SEQUENCE_NUMBER', how='left').fillna({'indicator': 0})\n",
    "\n",
    "    #find out how long until prepayment\n",
    "    string_counts = Counter(df[\"LOAN_SEQUENCE_NUMBER\"].values)\n",
    "    counts_df = pd.DataFrame(list(string_counts.items()), columns=['LOAN_SEQUENCE_NUMBER', 'COUNT'])\n",
    "\n",
    "    merged_df = pd.merge(final_df, counts_df, on='LOAN_SEQUENCE_NUMBER', how='left')\n",
    "\n",
    "    merged_df = merged_df.dropna(subset=['CURRENT_INTEREST_RATE'])\n",
    "\n",
    "    merged_df.to_parquet(outputpath)  "
   ]
  },
  {
   "cell_type": "code",
   "execution_count": null,
   "metadata": {},
   "outputs": [
    {
     "name": "stdout",
     "output_type": "stream",
     "text": [
      "2006 1\n",
      "13:14:57\n",
      "13:16:18\n",
      "2006 2\n",
      "13:16:20\n",
      "13:17:36\n",
      "2006 3\n",
      "13:17:38\n",
      "13:18:44\n",
      "2006 4\n",
      "13:18:45\n",
      "13:20:01\n",
      "2007 1\n",
      "13:20:02\n",
      "13:21:20\n",
      "2007 2\n",
      "13:21:22\n",
      "13:22:50\n",
      "2007 3\n",
      "13:22:52\n",
      "13:23:35\n",
      "2007 4\n",
      "13:23:36\n"
     ]
    }
   ],
   "source": [
    "%%time\n",
    "\n",
    "# Iterate over each year and quarter\n",
    "for year in range(2006, 2023):  # 2024 because the range end is exclusive\n",
    "    for quarter in range(1, 5):  # From Q1 to Q4\n",
    "        print(year,quarter)\n",
    "        \n",
    "        # Construct the file path\n",
    "        file_path = f'/Users/juliusgruber/Downloads/historical_data_{year}/historical_data_time_{year}Q{quarter}.txt'\n",
    "        output_path = f'data/hist_data_time_{year}Q{quarter}.parquet'\n",
    "        try:\n",
    "            convert_parquet_final(file_path,output_path)\n",
    "        except Exception as e:\n",
    "            # If there's an error reading a file, print the error message and file path\n",
    "            print(f\"Could not read {file_path}: {e}\")"
   ]
  },
  {
   "cell_type": "markdown",
   "metadata": {},
   "source": []
  }
 ],
 "metadata": {
  "kernelspec": {
   "display_name": "Python 3 (ipykernel)",
   "language": "python",
   "name": "python3"
  },
  "language_info": {
   "codemirror_mode": {
    "name": "ipython",
    "version": 3
   },
   "file_extension": ".py",
   "mimetype": "text/x-python",
   "name": "python",
   "nbconvert_exporter": "python",
   "pygments_lexer": "ipython3",
   "version": "3.8.16"
  }
 },
 "nbformat": 4,
 "nbformat_minor": 4
}
